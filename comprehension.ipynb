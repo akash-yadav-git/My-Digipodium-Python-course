{
 "cells": [
  {
   "cell_type": "code",
   "execution_count": 1,
   "metadata": {},
   "outputs": [],
   "source": [
    "x=[23,49,56,71,80]\n",
    "x2=[]\n"
   ]
  },
  {
   "cell_type": "code",
   "execution_count": 2,
   "metadata": {},
   "outputs": [
    {
     "name": "stdout",
     "output_type": "stream",
     "text": [
      "[23, 49, 56, 71, 80]\n",
      "[529, 2401, 3136, 5041, 6400]\n"
     ]
    }
   ],
   "source": [
    "for i in x:\n",
    "    sqr=i**2\n",
    "    x2.append(sqr)\n",
    "print(x)\n",
    "print(x2)"
   ]
  },
  {
   "cell_type": "code",
   "execution_count": 3,
   "metadata": {},
   "outputs": [
    {
     "name": "stdout",
     "output_type": "stream",
     "text": [
      "[529, 2401, 3136, 5041, 6400]\n"
     ]
    }
   ],
   "source": [
    "x3=[i**2 for i in x]\n",
    "print(x3)"
   ]
  },
  {
   "cell_type": "markdown",
   "metadata": {},
   "source": [
    "comprehension- when we want to creat a list from existing list"
   ]
  },
  {
   "cell_type": "code",
   "execution_count": 4,
   "metadata": {},
   "outputs": [],
   "source": [
    "a=[2,5,8,1,6,2,5,10]\n"
   ]
  },
  {
   "cell_type": "code",
   "execution_count": 5,
   "metadata": {},
   "outputs": [
    {
     "name": "stdout",
     "output_type": "stream",
     "text": [
      "[2, 8, 6, 2, 10]\n"
     ]
    }
   ],
   "source": [
    "even_a=[i for i in a if i%2==0]\n",
    "print(even_a)"
   ]
  },
  {
   "cell_type": "code",
   "execution_count": 6,
   "metadata": {},
   "outputs": [],
   "source": [
    "names=['Akash Yadav','Sakita Thakur','Devesh Dubey']"
   ]
  },
  {
   "cell_type": "code",
   "execution_count": null,
   "metadata": {},
   "outputs": [],
   "source": [
    "initial_names=[f'{n.split()[0][0]}{']"
   ]
  },
  {
   "cell_type": "code",
   "execution_count": 10,
   "metadata": {},
   "outputs": [],
   "source": [
    "rainfall={\n",
    "    '2001':350,\n",
    "    '2002':420,\n",
    "    '2003':510,\n",
    "    '2004':600,\n",
    "    '2005':700,\n",
    "}"
   ]
  },
  {
   "cell_type": "code",
   "execution_count": 13,
   "metadata": {},
   "outputs": [],
   "source": [
    "rainfall_norm={i[0]:i[1]/700 for i in rainfall.items()}"
   ]
  },
  {
   "cell_type": "markdown",
   "metadata": {},
   "source": [
    "wap to creat a program that takes a list of numbers and then generates a list of all even nums and odd nums"
   ]
  },
  {
   "cell_type": "code",
   "execution_count": 14,
   "metadata": {},
   "outputs": [],
   "source": [
    "nums=[2,3,5,4,6,7,8,9]"
   ]
  },
  {
   "cell_type": "code",
   "execution_count": 15,
   "metadata": {},
   "outputs": [
    {
     "name": "stdout",
     "output_type": "stream",
     "text": [
      "[2, 8, 6, 2, 10]\n",
      "[5, 1, 5]\n"
     ]
    }
   ],
   "source": [
    "even_nums=[i for i in a if i%2==0]\n",
    "print(even_nums)\n",
    "odd_nums=[i for i in a if i%2!=0]\n",
    "print(odd_nums)"
   ]
  }
 ],
 "metadata": {
  "interpreter": {
   "hash": "510511002e828e71daf1d18073e2310001e26a811753918113903a059bc7f59f"
  },
  "kernelspec": {
   "display_name": "Python 3.9.12 ('base')",
   "language": "python",
   "name": "python3"
  },
  "language_info": {
   "codemirror_mode": {
    "name": "ipython",
    "version": 3
   },
   "file_extension": ".py",
   "mimetype": "text/x-python",
   "name": "python",
   "nbconvert_exporter": "python",
   "pygments_lexer": "ipython3",
   "version": "3.9.12"
  },
  "orig_nbformat": 4
 },
 "nbformat": 4,
 "nbformat_minor": 2
}
