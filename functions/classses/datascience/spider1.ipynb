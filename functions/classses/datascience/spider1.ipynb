{
 "cells": [
  {
   "cell_type": "code",
   "execution_count": 3,
   "metadata": {},
   "outputs": [],
   "source": [
    "from dputils import scrape as sc"
   ]
  },
  {
   "cell_type": "code",
   "execution_count": 4,
   "metadata": {},
   "outputs": [],
   "source": [
    "\n",
    "url='https://www.amazon.in/s?k=mobile&crid=R55MT4MVTD9Y&sprefix=m%2Caps%2C235&ref=nb_sb_ss_pltr-ranker-retrain-acsession-opsacceptance_1_1'\n",
    "soup=sc.get_webpage_data(url)"
   ]
  },
  {
   "cell_type": "code",
   "execution_count": 5,
   "metadata": {},
   "outputs": [
    {
     "data": {
      "text/plain": [
       "<title>Amazon.in : mobile</title>"
      ]
     },
     "execution_count": 5,
     "metadata": {},
     "output_type": "execute_result"
    }
   ],
   "source": [
    "soup.find('title')"
   ]
  },
  {
   "cell_type": "code",
   "execution_count": 6,
   "metadata": {},
   "outputs": [],
   "source": [
    "target={\n",
    "    'tag':'div',\n",
    "    'attrs':{\n",
    "        'class':'s-main-slot s-result-list s-search-results sg-row'\n",
    "    }\n",
    "}"
   ]
  },
  {
   "cell_type": "code",
   "execution_count": 7,
   "metadata": {},
   "outputs": [],
   "source": [
    "items={\n",
    "    'tag':'div',\n",
    "    'attrs':{\n",
    "        'class':'s-result-item' \n",
    "    }\n",
    "}\n",
    "title={\n",
    "    'tag':'h2',\n",
    "    'attrs':{\n",
    "        'class':'a-size-medium a-color-base a-text-normal'\n",
    "    }\n",
    "}\n",
    "price={\n",
    "    'tag':'span',\n",
    "    'attrs':{\n",
    "        'class':'a-price-whole'\n",
    "    }\n",
    "}"
   ]
  },
  {
   "cell_type": "code",
   "execution_count": null,
   "metadata": {},
   "outputs": [],
   "source": [
    "output=sc.extract_many(soup,target=target,items=items,title=title,price=price)"
   ]
  },
  {
   "cell_type": "code",
   "execution_count": 9,
   "metadata": {},
   "outputs": [
    {
     "name": "stdout",
     "output_type": "stream",
     "text": [
      "[]\n"
     ]
    }
   ],
   "source": [
    "from pprint import pprint\n",
    "pprint(output)"
   ]
  }
 ],
 "metadata": {
  "interpreter": {
   "hash": "510511002e828e71daf1d18073e2310001e26a811753918113903a059bc7f59f"
  },
  "kernelspec": {
   "display_name": "Python 3.9.12 ('base')",
   "language": "python",
   "name": "python3"
  },
  "language_info": {
   "codemirror_mode": {
    "name": "ipython",
    "version": 3
   },
   "file_extension": ".py",
   "mimetype": "text/x-python",
   "name": "python",
   "nbconvert_exporter": "python",
   "pygments_lexer": "ipython3",
   "version": "3.9.12"
  },
  "orig_nbformat": 4
 },
 "nbformat": 4,
 "nbformat_minor": 2
}
