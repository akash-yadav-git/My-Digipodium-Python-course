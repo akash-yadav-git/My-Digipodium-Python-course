{
 "cells": [
  {
   "cell_type": "code",
   "execution_count": 1,
   "metadata": {},
   "outputs": [],
   "source": [
    "from dputils import scrape as sc "
   ]
  },
  {
   "cell_type": "code",
   "execution_count": 12,
   "metadata": {},
   "outputs": [
    {
     "name": "stdout",
     "output_type": "stream",
     "text": [
      "https://www.flipkart.com/search?=laptop\n"
     ]
    }
   ],
   "source": [
    "query='laptop'\n",
    "url=f\"https://www.flipkart.com/search?={query}\"\n",
    "print(url)"
   ]
  },
  {
   "cell_type": "code",
   "execution_count": 5,
   "metadata": {},
   "outputs": [],
   "source": [
    "#tag, #attrs,#output=[text] \n",
    "target={'tag':'div','attrs':{'class':'_1yokD2_3Mn1Gg'}}\n",
    "items={'tag':'div','attrs':{'class':'_1AtVbE col-12-12'}}\n",
    "title={'tag':'div','attrs':{'class':'_4rR01T'}}\n",
    "price={'tag':'div','attrs':{'class':'_30jeq3 _1_WHN1'}}\n",
    "rr={'tag':'div','attrs':{'class':'_2_R_DZ'}}\n",
    "link={'tag':'div','attrs':{'class':'_1fQZEK'},'output':'href'}\n",
    "details={'tag':'div','attrs':{'class':'_1xgFaf'}}\n",
    "\n"
   ]
  },
  {
   "cell_type": "code",
   "execution_count": 14,
   "metadata": {},
   "outputs": [
    {
     "name": "stdout",
     "output_type": "stream",
     "text": [
      "Could not find target section with this div and {'class': '_1yokD2_3Mn1Gg'}\n"
     ]
    }
   ],
   "source": [
    "soup=sc.get_webpage_data(url)\n",
    "output=sc.extract_many(soup,\n",
    "target=target,items=items,title=title,\n",
    "price=price,rrr=rr,link=link,\n",
    "details=details)"
   ]
  },
  {
   "cell_type": "code",
   "execution_count": 15,
   "metadata": {},
   "outputs": [
    {
     "name": "stdout",
     "output_type": "stream",
     "text": [
      "None\n"
     ]
    }
   ],
   "source": [
    "from pprint import pprint\n",
    "pprint(output)"
   ]
  },
  {
   "cell_type": "code",
   "execution_count": null,
   "metadata": {},
   "outputs": [],
   "source": [
    "query='laptop'\n",
    "page=1\n",
    "all_output=[]\n",
    "while True:\n",
    "    url=f\"https://www.flipkart.com/search?{query}&page={page}\"\n",
    "    print(url)\n",
    "    soup=sc.get_webpage_data(url)\n",
    "    try:\n",
    "        output=sc.extract_many(soup,\n",
    "                ttarget=target,items=items,\n",
    "                title=title,price=price,\n",
    "                rr=rr,link=link,\n",
    "                details=details)\n",
    "        all_output.extend(output)\n",
    "        page+=1\n",
    "    except Exception as e:\n",
    "        print(e)\n",
    "        continue\n",
    "    if page"
   ]
  }
 ],
 "metadata": {
  "interpreter": {
   "hash": "510511002e828e71daf1d18073e2310001e26a811753918113903a059bc7f59f"
  },
  "kernelspec": {
   "display_name": "Python 3.9.12 ('base')",
   "language": "python",
   "name": "python3"
  },
  "language_info": {
   "codemirror_mode": {
    "name": "ipython",
    "version": 3
   },
   "file_extension": ".py",
   "mimetype": "text/x-python",
   "name": "python",
   "nbconvert_exporter": "python",
   "pygments_lexer": "ipython3",
   "version": "3.9.12"
  },
  "orig_nbformat": 4
 },
 "nbformat": 4,
 "nbformat_minor": 2
}
