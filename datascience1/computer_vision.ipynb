{
 "cells": [
  {
   "cell_type": "markdown",
   "metadata": {},
   "source": [
    "Computer vision"
   ]
  },
  {
   "cell_type": "code",
   "execution_count": 4,
   "metadata": {},
   "outputs": [],
   "source": [
    "import cv2   #pip install opencv-contrib-python"
   ]
  },
  {
   "cell_type": "code",
   "execution_count": 5,
   "metadata": {},
   "outputs": [],
   "source": [
    "video=cv2.VideoCapture('sample.mp4')"
   ]
  },
  {
   "cell_type": "code",
   "execution_count": 3,
   "metadata": {},
   "outputs": [],
   "source": [
    "while True:\n",
    "    state,frame=video.read()\n",
    "    if not state:\n",
    "        break\n",
    "    cv2.imshow('video output',frame)\n",
    "    if cv2.waitKey(1)==27:\n",
    "        break\n",
    "video.release()\n",
    "cv2.destroyAllWindows()"
   ]
  },
  {
   "cell_type": "code",
   "execution_count": 8,
   "metadata": {},
   "outputs": [],
   "source": [
    "def webcam(webcam_idx=0):\n",
    "    video=cv2.VideoCapture(webcam_idx)\n",
    "    while True:\n",
    "        state,frame=video.read()\n",
    "        if not state:\n",
    "            break\n",
    "        cv2.imshow('video output',frame)\n",
    "        if cv2.waitKey(1)==27:\n",
    "            break\n",
    "video.release()\n",
    "cv2.destroyAllWindows()"
   ]
  },
  {
   "cell_type": "code",
   "execution_count": 9,
   "metadata": {},
   "outputs": [],
   "source": [
    "webcam()"
   ]
  },
  {
   "cell_type": "code",
   "execution_count": 1,
   "metadata": {},
   "outputs": [],
   "source": [
    "def recorder(webcam_idx=0,recording_file='recording.avi'):\n",
    "    video=cv2.VideoCapture(webcam_idx)\n",
    "    fourcc=cv2.VideoWriter_fourcc(*'XVID')\n",
    "    out=cv2.VideoWriter(recording_file,fourcc,20.0,(640,480))\n",
    "    while True:\n",
    "        state,frame=video.read()\n",
    "        if not state:break\n",
    "        cv2.imshow('video camera',frame)\n",
    "        out.write(frame)\n",
    "        if cv2.waitKey(1)==27:\n",
    "            break\n",
    "    out.release()\n",
    "    video.release()\n",
    "    cv2.destroyAllWindows()"
   ]
  },
  {
   "cell_type": "code",
   "execution_count": 6,
   "metadata": {},
   "outputs": [],
   "source": [
    "recorder(recording_file='example_webcam.avi')"
   ]
  },
  {
   "cell_type": "code",
   "execution_count": 10,
   "metadata": {},
   "outputs": [],
   "source": [
    "def webcam_w_info(webcam_idx=0):\n",
    "    video=cv2.VideoCapture(webcam_idx)\n",
    "    while True:\n",
    "        state,frame=video.read()\n",
    "        if not state:\n",
    "            break\n",
    "        cv2.rectangle(frame,(0,0),(500,20),(255,255,0),-1)\n",
    "        cv2.putText(frame,\"webcam output from laptop\",(10,40),cv2.FONT_HERSHEY_SIMPLEX,1,(0,0,0))\n",
    "        cv2.putText(frame,'camera o',(10,450),cv2.FONT_HERSHEY_SIMPLEX,.5,(0,255,255))\n",
    "        cv2.imshow('video output',frame)\n",
    "        if cv2.waitKey(1)==27:\n",
    "            break\n",
    "    video.release()\n",
    "    cv2.destroyAllWindows()\n",
    "webcam_w_info()\n"
   ]
  },
  {
   "cell_type": "code",
   "execution_count": 11,
   "metadata": {},
   "outputs": [],
   "source": [
    "import mediapipe as np"
   ]
  },
  {
   "cell_type": "code",
   "execution_count": null,
   "metadata": {},
   "outputs": [],
   "source": []
  }
 ],
 "metadata": {
  "interpreter": {
   "hash": "510511002e828e71daf1d18073e2310001e26a811753918113903a059bc7f59f"
  },
  "kernelspec": {
   "display_name": "Python 3.9.12 ('base')",
   "language": "python",
   "name": "python3"
  },
  "language_info": {
   "codemirror_mode": {
    "name": "ipython",
    "version": 3
   },
   "file_extension": ".py",
   "mimetype": "text/x-python",
   "name": "python",
   "nbconvert_exporter": "python",
   "pygments_lexer": "ipython3",
   "version": "3.9.12"
  },
  "orig_nbformat": 4
 },
 "nbformat": 4,
 "nbformat_minor": 2
}
