{
 "cells": [
  {
   "cell_type": "code",
   "execution_count": 1,
   "metadata": {},
   "outputs": [],
   "source": [
    "import numpy as np\n",
    "import pandas as pd "
   ]
  },
  {
   "cell_type": "code",
   "execution_count": 2,
   "metadata": {},
   "outputs": [],
   "source": [
    "x=[1,2,3,5,1,2]\n",
    "nx=np.array(x)"
   ]
  },
  {
   "cell_type": "code",
   "execution_count": 3,
   "metadata": {},
   "outputs": [
    {
     "name": "stdout",
     "output_type": "stream",
     "text": [
      "[1 2 3 5 1 2]\n"
     ]
    }
   ],
   "source": [
    "print(nx)"
   ]
  },
  {
   "cell_type": "code",
   "execution_count": 4,
   "metadata": {},
   "outputs": [
    {
     "name": "stdout",
     "output_type": "stream",
     "text": [
      "(6,)\n"
     ]
    }
   ],
   "source": [
    "print(nx.shape)"
   ]
  },
  {
   "cell_type": "code",
   "execution_count": 5,
   "metadata": {},
   "outputs": [],
   "source": [
    "ny=np.array([[1,2,3],[4,5,6]])"
   ]
  },
  {
   "cell_type": "code",
   "execution_count": 6,
   "metadata": {},
   "outputs": [
    {
     "name": "stdout",
     "output_type": "stream",
     "text": [
      "(2, 3)\n"
     ]
    }
   ],
   "source": [
    "print(ny.shape)"
   ]
  },
  {
   "cell_type": "code",
   "execution_count": 7,
   "metadata": {},
   "outputs": [
    {
     "data": {
      "text/plain": [
       "array([[1, 2, 3],\n",
       "       [4, 5, 6]])"
      ]
     },
     "execution_count": 7,
     "metadata": {},
     "output_type": "execute_result"
    }
   ],
   "source": [
    "ny"
   ]
  },
  {
   "cell_type": "code",
   "execution_count": 8,
   "metadata": {},
   "outputs": [
    {
     "data": {
      "text/plain": [
       "array([ 1. ,  1.2,  1.4,  1.6,  1.8,  2. ,  2.2,  2.4,  2.6,  2.8,  3. ,\n",
       "        3.2,  3.4,  3.6,  3.8,  4. ,  4.2,  4.4,  4.6,  4.8,  5. ,  5.2,\n",
       "        5.4,  5.6,  5.8,  6. ,  6.2,  6.4,  6.6,  6.8,  7. ,  7.2,  7.4,\n",
       "        7.6,  7.8,  8. ,  8.2,  8.4,  8.6,  8.8,  9. ,  9.2,  9.4,  9.6,\n",
       "        9.8, 10. , 10.2, 10.4, 10.6, 10.8, 11. , 11.2, 11.4, 11.6, 11.8,\n",
       "       12. , 12.2, 12.4, 12.6, 12.8, 13. , 13.2, 13.4, 13.6, 13.8, 14. ,\n",
       "       14.2, 14.4, 14.6, 14.8, 15. , 15.2, 15.4, 15.6, 15.8, 16. , 16.2,\n",
       "       16.4, 16.6, 16.8, 17. , 17.2, 17.4, 17.6, 17.8, 18. , 18.2, 18.4,\n",
       "       18.6, 18.8, 19. , 19.2, 19.4, 19.6, 19.8, 20. , 20.2, 20.4, 20.6,\n",
       "       20.8, 21. , 21.2, 21.4, 21.6, 21.8, 22. , 22.2, 22.4, 22.6, 22.8,\n",
       "       23. , 23.2, 23.4, 23.6, 23.8, 24. , 24.2, 24.4, 24.6, 24.8, 25. ,\n",
       "       25.2, 25.4, 25.6, 25.8, 26. , 26.2, 26.4, 26.6, 26.8, 27. , 27.2,\n",
       "       27.4, 27.6, 27.8, 28. , 28.2, 28.4, 28.6, 28.8, 29. , 29.2, 29.4,\n",
       "       29.6, 29.8, 30. , 30.2, 30.4, 30.6, 30.8, 31. , 31.2, 31.4, 31.6,\n",
       "       31.8, 32. , 32.2, 32.4, 32.6, 32.8, 33. , 33.2, 33.4, 33.6, 33.8,\n",
       "       34. , 34.2, 34.4, 34.6, 34.8, 35. , 35.2, 35.4, 35.6, 35.8, 36. ,\n",
       "       36.2, 36.4, 36.6, 36.8, 37. , 37.2, 37.4, 37.6, 37.8, 38. , 38.2,\n",
       "       38.4, 38.6, 38.8, 39. , 39.2, 39.4, 39.6, 39.8, 40. , 40.2, 40.4,\n",
       "       40.6, 40.8, 41. , 41.2, 41.4, 41.6, 41.8, 42. , 42.2, 42.4, 42.6,\n",
       "       42.8, 43. , 43.2, 43.4, 43.6, 43.8, 44. , 44.2, 44.4, 44.6, 44.8,\n",
       "       45. , 45.2, 45.4, 45.6, 45.8, 46. , 46.2, 46.4, 46.6, 46.8, 47. ,\n",
       "       47.2, 47.4, 47.6, 47.8, 48. , 48.2, 48.4, 48.6, 48.8, 49. , 49.2,\n",
       "       49.4, 49.6, 49.8, 50. , 50.2, 50.4, 50.6, 50.8, 51. , 51.2, 51.4,\n",
       "       51.6, 51.8, 52. , 52.2, 52.4, 52.6, 52.8, 53. , 53.2, 53.4, 53.6,\n",
       "       53.8, 54. , 54.2, 54.4, 54.6, 54.8, 55. , 55.2, 55.4, 55.6, 55.8,\n",
       "       56. , 56.2, 56.4, 56.6, 56.8, 57. , 57.2, 57.4, 57.6, 57.8, 58. ,\n",
       "       58.2, 58.4, 58.6, 58.8, 59. , 59.2, 59.4, 59.6, 59.8, 60. , 60.2,\n",
       "       60.4, 60.6, 60.8, 61. , 61.2, 61.4, 61.6, 61.8, 62. , 62.2, 62.4,\n",
       "       62.6, 62.8, 63. , 63.2, 63.4, 63.6, 63.8, 64. , 64.2, 64.4, 64.6,\n",
       "       64.8, 65. , 65.2, 65.4, 65.6, 65.8, 66. , 66.2, 66.4, 66.6, 66.8,\n",
       "       67. , 67.2, 67.4, 67.6, 67.8, 68. , 68.2, 68.4, 68.6, 68.8, 69. ,\n",
       "       69.2, 69.4, 69.6, 69.8, 70. , 70.2, 70.4, 70.6, 70.8, 71. , 71.2,\n",
       "       71.4, 71.6, 71.8, 72. , 72.2, 72.4, 72.6, 72.8, 73. , 73.2, 73.4,\n",
       "       73.6, 73.8, 74. , 74.2, 74.4, 74.6, 74.8, 75. , 75.2, 75.4, 75.6,\n",
       "       75.8, 76. , 76.2, 76.4, 76.6, 76.8, 77. , 77.2, 77.4, 77.6, 77.8,\n",
       "       78. , 78.2, 78.4, 78.6, 78.8, 79. , 79.2, 79.4, 79.6, 79.8, 80. ,\n",
       "       80.2, 80.4, 80.6, 80.8, 81. , 81.2, 81.4, 81.6, 81.8, 82. , 82.2,\n",
       "       82.4, 82.6, 82.8, 83. , 83.2, 83.4, 83.6, 83.8, 84. , 84.2, 84.4,\n",
       "       84.6, 84.8, 85. , 85.2, 85.4, 85.6, 85.8, 86. , 86.2, 86.4, 86.6,\n",
       "       86.8, 87. , 87.2, 87.4, 87.6, 87.8, 88. , 88.2, 88.4, 88.6, 88.8,\n",
       "       89. , 89.2, 89.4, 89.6, 89.8, 90. , 90.2, 90.4, 90.6, 90.8, 91. ,\n",
       "       91.2, 91.4, 91.6, 91.8, 92. , 92.2, 92.4, 92.6, 92.8, 93. , 93.2,\n",
       "       93.4, 93.6, 93.8, 94. , 94.2, 94.4, 94.6, 94.8, 95. , 95.2, 95.4,\n",
       "       95.6, 95.8, 96. , 96.2, 96.4, 96.6, 96.8, 97. , 97.2, 97.4, 97.6,\n",
       "       97.8, 98. , 98.2, 98.4, 98.6, 98.8, 99. , 99.2, 99.4, 99.6, 99.8])"
      ]
     },
     "execution_count": 8,
     "metadata": {},
     "output_type": "execute_result"
    }
   ],
   "source": [
    "one=np.arange(1,100,.2)\n",
    "one"
   ]
  },
  {
   "cell_type": "code",
   "execution_count": 9,
   "metadata": {},
   "outputs": [
    {
     "name": "stdout",
     "output_type": "stream",
     "text": [
      "495\n"
     ]
    }
   ],
   "source": [
    "print(one.size)"
   ]
  },
  {
   "cell_type": "code",
   "execution_count": 10,
   "metadata": {},
   "outputs": [
    {
     "data": {
      "text/plain": [
       "array([  1.        ,   1.49748744,   1.99497487,   2.49246231,\n",
       "         2.98994975,   3.48743719,   3.98492462,   4.48241206,\n",
       "         4.9798995 ,   5.47738693,   5.97487437,   6.47236181,\n",
       "         6.96984925,   7.46733668,   7.96482412,   8.46231156,\n",
       "         8.95979899,   9.45728643,   9.95477387,  10.45226131,\n",
       "        10.94974874,  11.44723618,  11.94472362,  12.44221106,\n",
       "        12.93969849,  13.43718593,  13.93467337,  14.4321608 ,\n",
       "        14.92964824,  15.42713568,  15.92462312,  16.42211055,\n",
       "        16.91959799,  17.41708543,  17.91457286,  18.4120603 ,\n",
       "        18.90954774,  19.40703518,  19.90452261,  20.40201005,\n",
       "        20.89949749,  21.39698492,  21.89447236,  22.3919598 ,\n",
       "        22.88944724,  23.38693467,  23.88442211,  24.38190955,\n",
       "        24.87939698,  25.37688442,  25.87437186,  26.3718593 ,\n",
       "        26.86934673,  27.36683417,  27.86432161,  28.36180905,\n",
       "        28.85929648,  29.35678392,  29.85427136,  30.35175879,\n",
       "        30.84924623,  31.34673367,  31.84422111,  32.34170854,\n",
       "        32.83919598,  33.33668342,  33.83417085,  34.33165829,\n",
       "        34.82914573,  35.32663317,  35.8241206 ,  36.32160804,\n",
       "        36.81909548,  37.31658291,  37.81407035,  38.31155779,\n",
       "        38.80904523,  39.30653266,  39.8040201 ,  40.30150754,\n",
       "        40.79899497,  41.29648241,  41.79396985,  42.29145729,\n",
       "        42.78894472,  43.28643216,  43.7839196 ,  44.28140704,\n",
       "        44.77889447,  45.27638191,  45.77386935,  46.27135678,\n",
       "        46.76884422,  47.26633166,  47.7638191 ,  48.26130653,\n",
       "        48.75879397,  49.25628141,  49.75376884,  50.25125628,\n",
       "        50.74874372,  51.24623116,  51.74371859,  52.24120603,\n",
       "        52.73869347,  53.2361809 ,  53.73366834,  54.23115578,\n",
       "        54.72864322,  55.22613065,  55.72361809,  56.22110553,\n",
       "        56.71859296,  57.2160804 ,  57.71356784,  58.21105528,\n",
       "        58.70854271,  59.20603015,  59.70351759,  60.20100503,\n",
       "        60.69849246,  61.1959799 ,  61.69346734,  62.19095477,\n",
       "        62.68844221,  63.18592965,  63.68341709,  64.18090452,\n",
       "        64.67839196,  65.1758794 ,  65.67336683,  66.17085427,\n",
       "        66.66834171,  67.16582915,  67.66331658,  68.16080402,\n",
       "        68.65829146,  69.15577889,  69.65326633,  70.15075377,\n",
       "        70.64824121,  71.14572864,  71.64321608,  72.14070352,\n",
       "        72.63819095,  73.13567839,  73.63316583,  74.13065327,\n",
       "        74.6281407 ,  75.12562814,  75.62311558,  76.12060302,\n",
       "        76.61809045,  77.11557789,  77.61306533,  78.11055276,\n",
       "        78.6080402 ,  79.10552764,  79.60301508,  80.10050251,\n",
       "        80.59798995,  81.09547739,  81.59296482,  82.09045226,\n",
       "        82.5879397 ,  83.08542714,  83.58291457,  84.08040201,\n",
       "        84.57788945,  85.07537688,  85.57286432,  86.07035176,\n",
       "        86.5678392 ,  87.06532663,  87.56281407,  88.06030151,\n",
       "        88.55778894,  89.05527638,  89.55276382,  90.05025126,\n",
       "        90.54773869,  91.04522613,  91.54271357,  92.04020101,\n",
       "        92.53768844,  93.03517588,  93.53266332,  94.03015075,\n",
       "        94.52763819,  95.02512563,  95.52261307,  96.0201005 ,\n",
       "        96.51758794,  97.01507538,  97.51256281,  98.01005025,\n",
       "        98.50753769,  99.00502513,  99.50251256, 100.        ])"
      ]
     },
     "execution_count": 10,
     "metadata": {},
     "output_type": "execute_result"
    }
   ],
   "source": [
    "two=np.linspace(1,100,200)\n",
    "two"
   ]
  },
  {
   "cell_type": "code",
   "execution_count": 11,
   "metadata": {},
   "outputs": [
    {
     "data": {
      "text/plain": [
       "array([0.32453729, 0.50746213, 0.92819873, 0.62556742, 0.07136243,\n",
       "       0.16496298, 0.90108765, 0.50729683, 0.28194824, 0.34326154,\n",
       "       0.09567413, 0.01346955, 0.88279638, 0.87580521, 0.31484564,\n",
       "       0.29449896, 0.59939479, 0.74552167, 0.57393422, 0.0546072 ,\n",
       "       0.06491624, 0.35198229, 0.93403497, 0.14818746, 0.55645316,\n",
       "       0.17964286, 0.75316422, 0.09938432, 0.05095001, 0.91474608,\n",
       "       0.8831458 , 0.92653881, 0.09248922, 0.07282434, 0.50092757,\n",
       "       0.89081545, 0.45291643, 0.07715429, 0.58601995, 0.60575234,\n",
       "       0.51742438, 0.59713799, 0.75465543, 0.77643657, 0.42892449,\n",
       "       0.72317623, 0.80202746, 0.54201668, 0.74052994, 0.85708275,\n",
       "       0.69513115, 0.38674939, 0.74996151, 0.04598044, 0.53188508,\n",
       "       0.83300532, 0.1587677 , 0.05864968, 0.08293104, 0.41383427,\n",
       "       0.7400934 , 0.29216095, 0.15302708, 0.50017718, 0.97015502,\n",
       "       0.2557147 , 0.4597411 , 0.62390324, 0.49257212, 0.03255367,\n",
       "       0.94779366, 0.28705026, 0.01907255, 0.30923971, 0.58528631,\n",
       "       0.95929628, 0.29581374, 0.6531444 , 0.01697365, 0.53455046,\n",
       "       0.08758888, 0.33057241, 0.35042881, 0.00829116, 0.16422397,\n",
       "       0.73970156, 0.71396127, 0.34688605, 0.09587468, 0.20019263,\n",
       "       0.1342928 , 0.23739225, 0.97393041, 0.02454168, 0.29353905,\n",
       "       0.32131226, 0.96507301, 0.07125714, 0.30910566, 0.5255999 ])"
      ]
     },
     "execution_count": 11,
     "metadata": {},
     "output_type": "execute_result"
    }
   ],
   "source": [
    "n3=np.random.rand(100)\n",
    "n3"
   ]
  },
  {
   "cell_type": "code",
   "execution_count": 12,
   "metadata": {},
   "outputs": [
    {
     "data": {
      "text/plain": [
       "array([1, 1, 2, 3, 7, 9, 2, 5, 6, 4, 5, 5, 6, 3, 8, 8, 4, 1, 9, 4, 3, 1,\n",
       "       5, 6, 9, 6, 5, 3, 6, 9, 4, 9, 1, 8, 3, 6, 5, 2, 6, 5, 7, 9, 9, 7,\n",
       "       4, 4, 7, 4, 6, 5, 3, 1, 9, 4, 4, 7, 1, 6, 6, 3, 8, 7, 7, 5, 3, 9,\n",
       "       3, 6, 8, 6, 8, 7, 6, 8, 7, 8, 4, 3, 4, 5, 9, 3, 8, 9, 7, 5, 1, 8,\n",
       "       7, 3, 4, 7, 5, 3, 1, 1, 8, 4, 2, 4])"
      ]
     },
     "execution_count": 12,
     "metadata": {},
     "output_type": "execute_result"
    }
   ],
   "source": [
    "n4=np.random.randint(1,10,100)\n",
    "n4"
   ]
  },
  {
   "cell_type": "code",
   "execution_count": 13,
   "metadata": {},
   "outputs": [
    {
     "data": {
      "text/plain": [
       "array([[1, 1, 2, 3, 7, 9, 2, 5, 6, 4],\n",
       "       [5, 5, 6, 3, 8, 8, 4, 1, 9, 4],\n",
       "       [3, 1, 5, 6, 9, 6, 5, 3, 6, 9],\n",
       "       [4, 9, 1, 8, 3, 6, 5, 2, 6, 5],\n",
       "       [7, 9, 9, 7, 4, 4, 7, 4, 6, 5],\n",
       "       [3, 1, 9, 4, 4, 7, 1, 6, 6, 3],\n",
       "       [8, 7, 7, 5, 3, 9, 3, 6, 8, 6],\n",
       "       [8, 7, 6, 8, 7, 8, 4, 3, 4, 5],\n",
       "       [9, 3, 8, 9, 7, 5, 1, 8, 7, 3],\n",
       "       [4, 7, 5, 3, 1, 1, 8, 4, 2, 4]])"
      ]
     },
     "execution_count": 13,
     "metadata": {},
     "output_type": "execute_result"
    }
   ],
   "source": [
    "n4.reshape((10,10))"
   ]
  },
  {
   "cell_type": "code",
   "execution_count": 14,
   "metadata": {},
   "outputs": [
    {
     "data": {
      "text/plain": [
       "array([[[1, 1],\n",
       "        [2, 3],\n",
       "        [7, 9],\n",
       "        [2, 5],\n",
       "        [6, 4]],\n",
       "\n",
       "       [[5, 5],\n",
       "        [6, 3],\n",
       "        [8, 8],\n",
       "        [4, 1],\n",
       "        [9, 4]],\n",
       "\n",
       "       [[3, 1],\n",
       "        [5, 6],\n",
       "        [9, 6],\n",
       "        [5, 3],\n",
       "        [6, 9]],\n",
       "\n",
       "       [[4, 9],\n",
       "        [1, 8],\n",
       "        [3, 6],\n",
       "        [5, 2],\n",
       "        [6, 5]],\n",
       "\n",
       "       [[7, 9],\n",
       "        [9, 7],\n",
       "        [4, 4],\n",
       "        [7, 4],\n",
       "        [6, 5]],\n",
       "\n",
       "       [[3, 1],\n",
       "        [9, 4],\n",
       "        [4, 7],\n",
       "        [1, 6],\n",
       "        [6, 3]],\n",
       "\n",
       "       [[8, 7],\n",
       "        [7, 5],\n",
       "        [3, 9],\n",
       "        [3, 6],\n",
       "        [8, 6]],\n",
       "\n",
       "       [[8, 7],\n",
       "        [6, 8],\n",
       "        [7, 8],\n",
       "        [4, 3],\n",
       "        [4, 5]],\n",
       "\n",
       "       [[9, 3],\n",
       "        [8, 9],\n",
       "        [7, 5],\n",
       "        [1, 8],\n",
       "        [7, 3]],\n",
       "\n",
       "       [[4, 7],\n",
       "        [5, 3],\n",
       "        [1, 1],\n",
       "        [8, 4],\n",
       "        [2, 4]]])"
      ]
     },
     "execution_count": 14,
     "metadata": {},
     "output_type": "execute_result"
    }
   ],
   "source": [
    "n4.reshape((10,5,2))"
   ]
  },
  {
   "cell_type": "code",
   "execution_count": 15,
   "metadata": {},
   "outputs": [],
   "source": [
    "n1=np.random.randint(1,10,(5,5))\n",
    "n2=np.random.randint(1,10,(5,5))"
   ]
  },
  {
   "cell_type": "code",
   "execution_count": 16,
   "metadata": {},
   "outputs": [
    {
     "data": {
      "text/plain": [
       "array([[10,  8, 12, 12, 13],\n",
       "       [ 3, 10,  3, 14, 10],\n",
       "       [ 9, 14,  4, 11, 17],\n",
       "       [ 5, 12,  8,  8,  8],\n",
       "       [16,  5,  9, 11, 16]])"
      ]
     },
     "execution_count": 16,
     "metadata": {},
     "output_type": "execute_result"
    }
   ],
   "source": [
    "n1+n2"
   ]
  },
  {
   "cell_type": "code",
   "execution_count": 17,
   "metadata": {},
   "outputs": [
    {
     "data": {
      "text/plain": [
       "array([[16, 15, 35, 35, 36],\n",
       "       [ 2, 25,  2, 45,  9],\n",
       "       [14, 48,  3, 18, 72],\n",
       "       [ 4, 32, 12, 12, 12],\n",
       "       [63,  4, 20, 24, 63]])"
      ]
     },
     "execution_count": 17,
     "metadata": {},
     "output_type": "execute_result"
    }
   ],
   "source": [
    "n1*n2"
   ]
  },
  {
   "cell_type": "code",
   "execution_count": 18,
   "metadata": {},
   "outputs": [
    {
     "data": {
      "text/plain": [
       "array([[18, 13, 15, 17, 14],\n",
       "       [12, 15, 12, 15, 11],\n",
       "       [12, 18, 13, 12, 19],\n",
       "       [14, 18, 16, 16, 12],\n",
       "       [19, 11, 15, 13, 19]])"
      ]
     },
     "execution_count": 18,
     "metadata": {},
     "output_type": "execute_result"
    }
   ],
   "source": [
    "n1+10"
   ]
  },
  {
   "cell_type": "code",
   "execution_count": 19,
   "metadata": {},
   "outputs": [
    {
     "data": {
      "text/plain": [
       "array([[ 89, 129,  94, 158, 209],\n",
       "       [ 35,  71,  35,  91, 116],\n",
       "       [ 98, 112,  65, 185, 189],\n",
       "       [ 78, 128,  62, 174, 206],\n",
       "       [120, 128, 111, 177, 211]])"
      ]
     },
     "execution_count": 19,
     "metadata": {},
     "output_type": "execute_result"
    }
   ],
   "source": [
    "n1.dot(n2)"
   ]
  },
  {
   "cell_type": "code",
   "execution_count": 20,
   "metadata": {},
   "outputs": [
    {
     "data": {
      "text/plain": [
       "(array([[8, 3, 5, 7, 4],\n",
       "        [2, 5, 2, 5, 1],\n",
       "        [2, 8, 3, 2, 9],\n",
       "        [4, 8, 6, 6, 2],\n",
       "        [9, 1, 5, 3, 9]]),\n",
       " array([[2, 5, 7, 5, 9],\n",
       "        [1, 5, 1, 9, 9],\n",
       "        [7, 6, 1, 9, 8],\n",
       "        [1, 4, 2, 2, 6],\n",
       "        [7, 4, 4, 8, 7]]))"
      ]
     },
     "execution_count": 20,
     "metadata": {},
     "output_type": "execute_result"
    }
   ],
   "source": [
    "n1,n2"
   ]
  },
  {
   "cell_type": "code",
   "execution_count": 21,
   "metadata": {},
   "outputs": [
    {
     "data": {
      "text/plain": [
       "array([[ 6, -2, -2,  2, -5],\n",
       "       [ 1,  0,  1, -4, -8],\n",
       "       [-5,  2,  2, -7,  1],\n",
       "       [ 3,  4,  4,  4, -4],\n",
       "       [ 2, -3,  1, -5,  2]])"
      ]
     },
     "execution_count": 21,
     "metadata": {},
     "output_type": "execute_result"
    }
   ],
   "source": [
    "n1-n2"
   ]
  },
  {
   "cell_type": "code",
   "execution_count": 22,
   "metadata": {},
   "outputs": [],
   "source": [
    "n6=np.random.randint(1,10,10)"
   ]
  },
  {
   "cell_type": "code",
   "execution_count": 23,
   "metadata": {},
   "outputs": [
    {
     "data": {
      "text/plain": [
       "array([4, 2, 6, 7, 4, 5, 6, 2, 2, 2])"
      ]
     },
     "execution_count": 23,
     "metadata": {},
     "output_type": "execute_result"
    }
   ],
   "source": [
    "n6"
   ]
  },
  {
   "cell_type": "code",
   "execution_count": 24,
   "metadata": {},
   "outputs": [
    {
     "data": {
      "text/plain": [
       "array([[5, 9, 9, 2],\n",
       "       [3, 1, 5, 8],\n",
       "       [1, 9, 6, 4],\n",
       "       [7, 5, 4, 2]])"
      ]
     },
     "execution_count": 24,
     "metadata": {},
     "output_type": "execute_result"
    }
   ],
   "source": [
    "n7=np.random.randint(1,10,(4,4))\n",
    "n7"
   ]
  },
  {
   "cell_type": "code",
   "execution_count": 25,
   "metadata": {},
   "outputs": [
    {
     "name": "stdout",
     "output_type": "stream",
     "text": [
      "[5 9 9 2]\n"
     ]
    }
   ],
   "source": [
    "print(n7[0])"
   ]
  },
  {
   "cell_type": "code",
   "execution_count": 26,
   "metadata": {},
   "outputs": [
    {
     "name": "stdout",
     "output_type": "stream",
     "text": [
      "[5 3 1 7]\n"
     ]
    }
   ],
   "source": [
    "print(n7[:,0])"
   ]
  },
  {
   "cell_type": "code",
   "execution_count": 27,
   "metadata": {},
   "outputs": [
    {
     "name": "stdout",
     "output_type": "stream",
     "text": [
      "[7 5 4 2]\n"
     ]
    }
   ],
   "source": [
    "print(n7[-1])"
   ]
  },
  {
   "cell_type": "code",
   "execution_count": 28,
   "metadata": {},
   "outputs": [
    {
     "name": "stdout",
     "output_type": "stream",
     "text": [
      "[[9 2]\n",
      " [5 8]]\n"
     ]
    }
   ],
   "source": [
    "print(n7[:2,2:])"
   ]
  },
  {
   "cell_type": "code",
   "execution_count": 29,
   "metadata": {},
   "outputs": [
    {
     "data": {
      "text/plain": [
       "array([5, 9, 9, 2, 3, 1, 5, 8, 1, 9, 6, 4, 7, 5, 4, 2])"
      ]
     },
     "execution_count": 29,
     "metadata": {},
     "output_type": "execute_result"
    }
   ],
   "source": [
    "n7.flatten() #makes 1 dimension"
   ]
  },
  {
   "cell_type": "code",
   "execution_count": 31,
   "metadata": {},
   "outputs": [],
   "source": [
    "x=n7"
   ]
  },
  {
   "cell_type": "code",
   "execution_count": 32,
   "metadata": {},
   "outputs": [
    {
     "data": {
      "text/plain": [
       "array([[5, 3, 1, 7],\n",
       "       [9, 1, 9, 5],\n",
       "       [9, 5, 6, 4],\n",
       "       [2, 8, 4, 2]])"
      ]
     },
     "execution_count": 32,
     "metadata": {},
     "output_type": "execute_result"
    }
   ],
   "source": [
    "x.transpose()#row to coloum, coloum to row"
   ]
  },
  {
   "cell_type": "code",
   "execution_count": 33,
   "metadata": {},
   "outputs": [
    {
     "data": {
      "text/plain": [
       "9"
      ]
     },
     "execution_count": 33,
     "metadata": {},
     "output_type": "execute_result"
    }
   ],
   "source": [
    "n7.max()"
   ]
  },
  {
   "cell_type": "code",
   "execution_count": 34,
   "metadata": {},
   "outputs": [
    {
     "data": {
      "text/plain": [
       "5.0"
      ]
     },
     "execution_count": 34,
     "metadata": {},
     "output_type": "execute_result"
    }
   ],
   "source": [
    "n7.mean()"
   ]
  },
  {
   "cell_type": "code",
   "execution_count": 35,
   "metadata": {},
   "outputs": [
    {
     "data": {
      "text/plain": [
       "80"
      ]
     },
     "execution_count": 35,
     "metadata": {},
     "output_type": "execute_result"
    }
   ],
   "source": [
    "n7.sum()"
   ]
  },
  {
   "cell_type": "code",
   "execution_count": 36,
   "metadata": {},
   "outputs": [
    {
     "data": {
      "text/plain": [
       "array([16, 24, 24, 16])"
      ]
     },
     "execution_count": 36,
     "metadata": {},
     "output_type": "execute_result"
    }
   ],
   "source": [
    "n7.sum(axis=0)"
   ]
  },
  {
   "cell_type": "code",
   "execution_count": 37,
   "metadata": {},
   "outputs": [
    {
     "data": {
      "text/plain": [
       "array([25, 17, 20, 18])"
      ]
     },
     "execution_count": 37,
     "metadata": {},
     "output_type": "execute_result"
    }
   ],
   "source": [
    "n7.sum(axis=1)"
   ]
  },
  {
   "cell_type": "code",
   "execution_count": 38,
   "metadata": {},
   "outputs": [
    {
     "data": {
      "text/plain": [
       "1"
      ]
     },
     "execution_count": 38,
     "metadata": {},
     "output_type": "execute_result"
    }
   ],
   "source": [
    "n7.argmax() #gives index no."
   ]
  },
  {
   "cell_type": "code",
   "execution_count": 39,
   "metadata": {},
   "outputs": [
    {
     "name": "stdout",
     "output_type": "stream",
     "text": [
      "[[92 72]\n",
      " [34 65]\n",
      " [14 64]]\n",
      "[[55 77]\n",
      " [98 73]\n",
      " [75 25]]\n",
      "[[78 82 49]\n",
      " [95  3 34]]\n"
     ]
    }
   ],
   "source": [
    "a=np.random.randint(1,100,(3,2))\n",
    "b=np.random.randint(1,100,(3,2))\n",
    "c=np.random.randint(1,100,(2,3))\n",
    "\n",
    "print(a)\n",
    "print(b)\n",
    "print(c)"
   ]
  },
  {
   "cell_type": "code",
   "execution_count": 41,
   "metadata": {},
   "outputs": [
    {
     "data": {
      "text/plain": [
       "array([[92, 72],\n",
       "       [34, 65],\n",
       "       [14, 64],\n",
       "       [55, 77],\n",
       "       [98, 73],\n",
       "       [75, 25]])"
      ]
     },
     "execution_count": 41,
     "metadata": {},
     "output_type": "execute_result"
    }
   ],
   "source": [
    "np.vstack((a,b))"
   ]
  },
  {
   "cell_type": "code",
   "execution_count": 42,
   "metadata": {},
   "outputs": [
    {
     "data": {
      "text/plain": [
       "array([[92, 72, 55, 77],\n",
       "       [34, 65, 98, 73],\n",
       "       [14, 64, 75, 25]])"
      ]
     },
     "execution_count": 42,
     "metadata": {},
     "output_type": "execute_result"
    }
   ],
   "source": [
    "np.hstack((a,b))"
   ]
  },
  {
   "cell_type": "code",
   "execution_count": null,
   "metadata": {},
   "outputs": [],
   "source": [
    "np.vstack((a,c,T))"
   ]
  },
  {
   "cell_type": "code",
   "execution_count": 45,
   "metadata": {},
   "outputs": [],
   "source": [
    "m=np.array([1,2,3,4,2,2,4,4,3,3,5,6,1,2,3,4,5,6,7,8,9,])"
   ]
  },
  {
   "cell_type": "code",
   "execution_count": 46,
   "metadata": {},
   "outputs": [
    {
     "data": {
      "text/plain": [
       "array([False, False, False, False, False, False, False, False, False,\n",
       "       False, False,  True, False, False, False, False, False,  True,\n",
       "        True,  True,  True])"
      ]
     },
     "execution_count": 46,
     "metadata": {},
     "output_type": "execute_result"
    }
   ],
   "source": [
    "#boolean filter\n",
    "m>5"
   ]
  },
  {
   "cell_type": "code",
   "execution_count": 47,
   "metadata": {},
   "outputs": [
    {
     "data": {
      "text/plain": [
       "array([6, 6, 7, 8, 9])"
      ]
     },
     "execution_count": 47,
     "metadata": {},
     "output_type": "execute_result"
    }
   ],
   "source": [
    "m[m>5]"
   ]
  },
  {
   "cell_type": "code",
   "execution_count": 48,
   "metadata": {},
   "outputs": [
    {
     "data": {
      "text/plain": [
       "array([2, 2, 2, 2])"
      ]
     },
     "execution_count": 48,
     "metadata": {},
     "output_type": "execute_result"
    }
   ],
   "source": [
    "m[m==2]"
   ]
  },
  {
   "cell_type": "code",
   "execution_count": 49,
   "metadata": {},
   "outputs": [
    {
     "data": {
      "text/plain": [
       "array([1, 3, 4, 4, 4, 3, 3, 5, 6, 1, 3, 4, 5, 6, 7, 8, 9])"
      ]
     },
     "execution_count": 49,
     "metadata": {},
     "output_type": "execute_result"
    }
   ],
   "source": [
    "m[m!=2]"
   ]
  },
  {
   "cell_type": "code",
   "execution_count": 52,
   "metadata": {},
   "outputs": [
    {
     "data": {
      "text/plain": [
       "array([3, 4, 4, 4, 3, 3, 5, 6, 3, 4, 5, 6, 7])"
      ]
     },
     "execution_count": 52,
     "metadata": {},
     "output_type": "execute_result"
    }
   ],
   "source": [
    "m[(m>2)&(m<8)]"
   ]
  },
  {
   "cell_type": "code",
   "execution_count": null,
   "metadata": {},
   "outputs": [],
   "source": []
  }
 ],
 "metadata": {
  "interpreter": {
   "hash": "510511002e828e71daf1d18073e2310001e26a811753918113903a059bc7f59f"
  },
  "kernelspec": {
   "display_name": "Python 3.9.12 ('base')",
   "language": "python",
   "name": "python3"
  },
  "language_info": {
   "codemirror_mode": {
    "name": "ipython",
    "version": 3
   },
   "file_extension": ".py",
   "mimetype": "text/x-python",
   "name": "python",
   "nbconvert_exporter": "python",
   "pygments_lexer": "ipython3",
   "version": "3.9.12"
  },
  "orig_nbformat": 4
 },
 "nbformat": 4,
 "nbformat_minor": 2
}
