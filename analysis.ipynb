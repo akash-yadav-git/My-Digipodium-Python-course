{
 "cells": [
  {
   "cell_type": "code",
   "execution_count": 1,
   "metadata": {},
   "outputs": [
    {
     "name": "stderr",
     "output_type": "stream",
     "text": [
      "C:\\Users\\Akanksha\\AppData\\Local\\Temp\\ipykernel_47812\\2511994934.py:4: DtypeWarning: Columns (1,2,3,4,5,6,7,8,11) have mixed types. Specify dtype option on import or set low_memory=False.\n",
      "  df=pd.read_csv('incidents.csv')\n"
     ]
    },
    {
     "name": "stdout",
     "output_type": "stream",
     "text": [
      "         IncidntNum      Category  \\\n",
      "0       120058272.0   WEAPON LAWS   \n",
      "1       120058272.0   WEAPON LAWS   \n",
      "2       141059263.0      WARRANTS   \n",
      "3       160013662.0  NON-CRIMINAL   \n",
      "4       160002740.0  NON-CRIMINAL   \n",
      "...             ...           ...   \n",
      "150495          NaN           NaN   \n",
      "150496          NaN           NaN   \n",
      "150497          NaN           NaN   \n",
      "150498          NaN           NaN   \n",
      "150499          NaN           NaN   \n",
      "\n",
      "                                              Descript DayOfWeek  \\\n",
      "0                            POSS OF PROHIBITED WEAPON    Friday   \n",
      "1       FIREARM, LOADED, IN VEHICLE, POSSESSION OR USE    Friday   \n",
      "2                                       WARRANT ARREST    Monday   \n",
      "3                                        LOST PROPERTY   Tuesday   \n",
      "4                                        LOST PROPERTY    Friday   \n",
      "...                                                ...       ...   \n",
      "150495                                             NaN       NaN   \n",
      "150496                                             NaN       NaN   \n",
      "150497                                             NaN       NaN   \n",
      "150498                                             NaN       NaN   \n",
      "150499                                             NaN       NaN   \n",
      "\n",
      "                          Date   Time  PdDistrict      Resolution  \\\n",
      "0       01/29/2016 12:00:00 AM  11:00    SOUTHERN  ARREST, BOOKED   \n",
      "1       01/29/2016 12:00:00 AM  11:00    SOUTHERN  ARREST, BOOKED   \n",
      "2       04/25/2016 12:00:00 AM  14:59     BAYVIEW  ARREST, BOOKED   \n",
      "3             01-05-2016 00:00  23:50  TENDERLOIN            NONE   \n",
      "4             01-01-2016 00:00  00:30     MISSION            NONE   \n",
      "...                        ...    ...         ...             ...   \n",
      "150495                     NaN    NaN         NaN             NaN   \n",
      "150496                     NaN    NaN         NaN             NaN   \n",
      "150497                     NaN    NaN         NaN             NaN   \n",
      "150498                     NaN    NaN         NaN             NaN   \n",
      "150499                     NaN    NaN         NaN             NaN   \n",
      "\n",
      "                       Address           X          Y  \\\n",
      "0       800 Block of BRYANT ST -122.403405  37.775421   \n",
      "1       800 Block of BRYANT ST -122.403405  37.775421   \n",
      "2        KEITH ST / SHAFTER AV -122.388856  37.729981   \n",
      "3       JONES ST / OFARRELL ST -122.412971  37.785788   \n",
      "4         16TH ST / MISSION ST -122.419672  37.765050   \n",
      "...                        ...         ...        ...   \n",
      "150495                     NaN         NaN        NaN   \n",
      "150496                     NaN         NaN        NaN   \n",
      "150497                     NaN         NaN        NaN   \n",
      "150498                     NaN         NaN        NaN   \n",
      "150499                     NaN         NaN        NaN   \n",
      "\n",
      "                                     Location          PdId  \n",
      "0        (37.775420706711, -122.403404791479)  1.200580e+13  \n",
      "1        (37.775420706711, -122.403404791479)  1.200580e+13  \n",
      "2       (37.7299809672996, -122.388856204292)  1.410590e+13  \n",
      "3       (37.7857883766888, -122.412970537591)  1.600140e+13  \n",
      "4       (37.7650501214668, -122.419671780296)  1.600030e+13  \n",
      "...                                       ...           ...  \n",
      "150495                                    NaN           NaN  \n",
      "150496                                    NaN           NaN  \n",
      "150497                                    NaN           NaN  \n",
      "150498                                    NaN           NaN  \n",
      "150499                                    NaN           NaN  \n",
      "\n",
      "[150500 rows x 13 columns]\n"
     ]
    },
    {
     "name": "stderr",
     "output_type": "stream",
     "text": [
      "Summarize dataset:  89%|████████▊ | 39/44 [00:11<00:01,  2.63it/s, Missing diagram dendrogram]    c:\\Users\\Akanksha\\miniconda3\\lib\\site-packages\\scipy\\cluster\\hierarchy.py:2846: UserWarning: Attempting to set identical bottom == top == 0.0 results in singular transformations; automatically expanding.\n",
      "  ax.set_ylim([dvw, 0])\n",
      "Summarize dataset: 100%|██████████| 44/44 [00:11<00:00,  3.73it/s, Completed]                 \n",
      "Generate report structure: 100%|██████████| 1/1 [00:03<00:00,  3.22s/it]\n",
      "Render HTML: 100%|██████████| 1/1 [00:01<00:00,  1.15s/it]\n",
      "Export report to file: 100%|██████████| 1/1 [00:00<00:00, 143.23it/s]\n"
     ]
    }
   ],
   "source": [
    "import pandas as pd\n",
    "from pandas_profiling import ProfileReport\n",
    "\n",
    "df=pd.read_csv('incidents.csv')\n",
    "print(df)\n",
    "\n",
    "profile=ProfileReport(df)\n",
    "profile.to_file(output_file=\"housing.html\")"
   ]
  }
 ],
 "metadata": {
  "interpreter": {
   "hash": "510511002e828e71daf1d18073e2310001e26a811753918113903a059bc7f59f"
  },
  "kernelspec": {
   "display_name": "Python 3.9.12 ('base')",
   "language": "python",
   "name": "python3"
  },
  "language_info": {
   "codemirror_mode": {
    "name": "ipython",
    "version": 3
   },
   "file_extension": ".py",
   "mimetype": "text/x-python",
   "name": "python",
   "nbconvert_exporter": "python",
   "pygments_lexer": "ipython3",
   "version": "3.9.12"
  },
  "orig_nbformat": 4
 },
 "nbformat": 4,
 "nbformat_minor": 2
}
