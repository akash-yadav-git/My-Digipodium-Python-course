{
 "cells": [
  {
   "cell_type": "markdown",
   "metadata": {},
   "source": [
    "why do we need dict?"
   ]
  },
  {
   "cell_type": "markdown",
   "metadata": {},
   "source": [
    "list are inefficient for searching meaning full data"
   ]
  },
  {
   "cell_type": "markdown",
   "metadata": {},
   "source": [
    "dictinary is a collection of key value pairs"
   ]
  },
  {
   "cell_type": "code",
   "execution_count": 1,
   "metadata": {},
   "outputs": [
    {
     "name": "stdout",
     "output_type": "stream",
     "text": [
      "{'alan': 30, 'brian': 50, 'charles': 60, 'david': 70, 'eric': 80}\n"
     ]
    }
   ],
   "source": [
    "mark_dict={'alan':30,'brian':50,'charles':60,'david':70,'eric':80}\n",
    "print(mark_dict)"
   ]
  },
  {
   "cell_type": "code",
   "execution_count": 4,
   "metadata": {},
   "outputs": [
    {
     "name": "stdout",
     "output_type": "stream",
     "text": [
      "charles got 60\n",
      "we are adding grace mark for alan\n",
      "new marks for alan is 45\n"
     ]
    }
   ],
   "source": [
    "print(\"charles got\",mark_dict['charles'])\n",
    "print(\"we are adding grace mark for alan\")\n",
    "mark_dict['alan']=45\n",
    "print('new marks for alan is',mark_dict['alan'])"
   ]
  },
  {
   "cell_type": "code",
   "execution_count": 5,
   "metadata": {},
   "outputs": [],
   "source": [
    "mark_dict_v2={\n",
    "    'student 1':{\n",
    "        'name':'alan',\n",
    "        'cgpa':8.3\n",
    "    },\n",
    "    'student 2':{\n",
    "        'name':'brian',\n",
    "        'cgpa':7.5\n",
    "    },\n",
    "    'student 3':{\n",
    "        'name':'charles',\n",
    "        'cgpa':9.0\n",
    "    }\n",
    "}"
   ]
  },
  {
   "cell_type": "code",
   "execution_count": 6,
   "metadata": {},
   "outputs": [
    {
     "name": "stdout",
     "output_type": "stream",
     "text": [
      "{'name': 'alan', 'cgpa': 8.3}\n"
     ]
    }
   ],
   "source": [
    "print(mark_dict_v2['student 1'])"
   ]
  },
  {
   "cell_type": "code",
   "execution_count": 7,
   "metadata": {},
   "outputs": [
    {
     "name": "stdout",
     "output_type": "stream",
     "text": [
      "alan\n"
     ]
    }
   ],
   "source": [
    "print(mark_dict_v2['student 1']['name'])"
   ]
  },
  {
   "cell_type": "code",
   "execution_count": 8,
   "metadata": {},
   "outputs": [
    {
     "name": "stdout",
     "output_type": "stream",
     "text": [
      "8.3\n"
     ]
    }
   ],
   "source": [
    "print(mark_dict_v2['student 1']['cgpa'])"
   ]
  },
  {
   "cell_type": "code",
   "execution_count": null,
   "metadata": {},
   "outputs": [],
   "source": [
    "#creat a dictionary to story movie name,year,rating and overview"
   ]
  },
  {
   "cell_type": "code",
   "execution_count": 10,
   "metadata": {},
   "outputs": [],
   "source": [
    "movies={\n",
    "    'thor':{\n",
    "        'year':2022,\n",
    "        'rating':9.8,\n",
    "        'overview':'thors new version and also related charecter.'\n",
    "    },\n",
    "    'iron man':{\n",
    "        'year':2010,\n",
    "        'rating':10,\n",
    "        'overview':'the world with new tech and survivors.'\n",
    "    },\n",
    "}"
   ]
  },
  {
   "cell_type": "code",
   "execution_count": 11,
   "metadata": {},
   "outputs": [],
   "source": [
    "# get vs []\n",
    "my_dict={'name':'jack','age':26}\n"
   ]
  },
  {
   "cell_type": "code",
   "execution_count": 12,
   "metadata": {},
   "outputs": [
    {
     "name": "stdout",
     "output_type": "stream",
     "text": [
      "jack\n"
     ]
    }
   ],
   "source": [
    "print(my_dict['name'])"
   ]
  },
  {
   "cell_type": "code",
   "execution_count": 13,
   "metadata": {},
   "outputs": [
    {
     "name": "stdout",
     "output_type": "stream",
     "text": [
      "jack\n"
     ]
    }
   ],
   "source": [
    "print(my_dict.get('name'))"
   ]
  },
  {
   "cell_type": "code",
   "execution_count": 14,
   "metadata": {},
   "outputs": [
    {
     "ename": "KeyError",
     "evalue": "'address'",
     "output_type": "error",
     "traceback": [
      "\u001b[1;31m---------------------------------------------------------------------------\u001b[0m",
      "\u001b[1;31mKeyError\u001b[0m                                  Traceback (most recent call last)",
      "\u001b[1;32mc:\\Users\\Akanksha\\Documents\\Python\\dictionary.ipynb Cell 15'\u001b[0m in \u001b[0;36m<cell line: 1>\u001b[1;34m()\u001b[0m\n\u001b[1;32m----> <a href='vscode-notebook-cell:/c%3A/Users/Akanksha/Documents/Python/dictionary.ipynb#ch0000017?line=0'>1</a>\u001b[0m \u001b[39mprint\u001b[39m(my_dict[\u001b[39m'\u001b[39;49m\u001b[39maddress\u001b[39;49m\u001b[39m'\u001b[39;49m])\n",
      "\u001b[1;31mKeyError\u001b[0m: 'address'"
     ]
    }
   ],
   "source": [
    "print(my_dict['address'])"
   ]
  },
  {
   "cell_type": "code",
   "execution_count": 15,
   "metadata": {},
   "outputs": [
    {
     "name": "stdout",
     "output_type": "stream",
     "text": [
      "None\n"
     ]
    }
   ],
   "source": [
    "print(my_dict.get('address'))"
   ]
  },
  {
   "cell_type": "code",
   "execution_count": 16,
   "metadata": {},
   "outputs": [
    {
     "data": {
      "text/plain": [
       "2010"
      ]
     },
     "execution_count": 16,
     "metadata": {},
     "output_type": "execute_result"
    }
   ],
   "source": [
    "movies.get('iron man').get('year')"
   ]
  },
  {
   "cell_type": "code",
   "execution_count": 17,
   "metadata": {},
   "outputs": [
    {
     "name": "stdout",
     "output_type": "stream",
     "text": [
      "{'thor': {'year': 2022, 'rating': 8.9, 'overview': 'thors new version and also related charecter.'}, 'iron man': {'year': 2010, 'rating': 10, 'overview': 'the world with new tech and survivors.'}}\n"
     ]
    }
   ],
   "source": [
    "movies['thor']['rating']=8.9\n",
    "print(movies)"
   ]
  },
  {
   "cell_type": "code",
   "execution_count": 18,
   "metadata": {},
   "outputs": [
    {
     "name": "stdout",
     "output_type": "stream",
     "text": [
      "{'thor': {'year': 2022, 'rating': 8.9, 'overview': 'thors new version and also related charecter.', 'studio': 'warner broas'}, 'iron man': {'year': 2010, 'rating': 10, 'overview': 'the world with new tech and survivors.'}}\n"
     ]
    }
   ],
   "source": [
    "movies['thor']['studio']='warner broas'\n",
    "print(movies)"
   ]
  },
  {
   "cell_type": "code",
   "execution_count": 20,
   "metadata": {},
   "outputs": [],
   "source": [
    "squares={1:1,2:4,3:9,4:16,5:25}"
   ]
  },
  {
   "cell_type": "code",
   "execution_count": 21,
   "metadata": {},
   "outputs": [
    {
     "name": "stdout",
     "output_type": "stream",
     "text": [
      "16\n"
     ]
    }
   ],
   "source": [
    "print(squares.pop(4))"
   ]
  },
  {
   "cell_type": "code",
   "execution_count": null,
   "metadata": {},
   "outputs": [],
   "source": [
    "print(squares.popitem())"
   ]
  },
  {
   "cell_type": "code",
   "execution_count": 30,
   "metadata": {},
   "outputs": [],
   "source": [
    "squares.clear()"
   ]
  },
  {
   "cell_type": "code",
   "execution_count": 27,
   "metadata": {},
   "outputs": [],
   "source": [
    "for i in squares:\n",
    "    print(i)"
   ]
  },
  {
   "cell_type": "code",
   "execution_count": 25,
   "metadata": {},
   "outputs": [],
   "source": [
    "for i in squares:\n",
    "    print(squares[i])"
   ]
  },
  {
   "cell_type": "code",
   "execution_count": 26,
   "metadata": {},
   "outputs": [],
   "source": [
    "for k,v in squares.items():\n",
    "    print(k,v)"
   ]
  },
  {
   "cell_type": "code",
   "execution_count": null,
   "metadata": {},
   "outputs": [],
   "source": [
    "for name,detai in movies.items():\n",
    "    print(name)\n",
    "    print('......')\n",
    "    for k,v in detaile,items():\n",
    "        print(k,'=',v)\n",
    "    print('......')"
   ]
  }
 ],
 "metadata": {
  "interpreter": {
   "hash": "510511002e828e71daf1d18073e2310001e26a811753918113903a059bc7f59f"
  },
  "kernelspec": {
   "display_name": "Python 3.9.12 ('base')",
   "language": "python",
   "name": "python3"
  },
  "language_info": {
   "codemirror_mode": {
    "name": "ipython",
    "version": 3
   },
   "file_extension": ".py",
   "mimetype": "text/x-python",
   "name": "python",
   "nbconvert_exporter": "python",
   "pygments_lexer": "ipython3",
   "version": "3.9.12"
  },
  "orig_nbformat": 4
 },
 "nbformat": 4,
 "nbformat_minor": 2
}
